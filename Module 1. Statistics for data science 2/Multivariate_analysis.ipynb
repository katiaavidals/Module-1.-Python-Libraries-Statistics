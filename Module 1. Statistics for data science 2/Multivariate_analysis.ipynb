{
  "nbformat": 4,
  "nbformat_minor": 0,
  "metadata": {
    "colab": {
      "provenance": []
    },
    "kernelspec": {
      "name": "python3",
      "display_name": "Python 3"
    },
    "language_info": {
      "name": "python"
    }
  },
  "cells": [
    {
      "cell_type": "code",
      "execution_count": 1,
      "metadata": {
        "id": "a2x9N5udxHkQ"
      },
      "outputs": [],
      "source": [
        "import numpy as np\n",
        "import pandas as pd\n",
        "import matplotlib.pyplot as plt\n",
        "\n",
        "np.random.seed(42)\n",
        "n = 500"
      ]
    },
    {
      "cell_type": "code",
      "source": [
        "#Datos sinteticos\n",
        "MedInc = np.random.lognormal(mean=2.5, sigma=0.35, size=n)\n",
        "HouseAge = np.random.randint(1, 52, size=n)\n",
        "Longitude = -124 + np.random.rand(n) * 10\n",
        "Latitude = 32 + np.random.rand(n) * 8\n",
        "AveRooms = 5 + 0.15 * MedInc + 0.03*HouseAge+ np.random.randn(n)\n",
        "\n",
        "#Target\n",
        "target = (\n",
        "    0.45 * MedInc\n",
        "    - 0.02 * HouseAge\n",
        "    - 0.3 * (Latitude - 36)\n",
        "    - 0.1 * (Longitude + 119)\n",
        "    + 0.02 * AveRooms\n",
        "    + np.random.randn(n) * 0.5\n",
        ")\n",
        "\n",
        "df = pd.DataFrame(\n",
        "    {\n",
        "        \"MedInc\": MedInc,\n",
        "        \"HouseAge\": HouseAge,\n",
        "        \"Longitude\": Longitude,\n",
        "        \"Latitude\": Latitude,\n",
        "        \"AveRooms\": AveRooms,\n",
        "        \"target\": target,\n",
        "    }\n",
        ")\n",
        "\n",
        "numeric_cols = df.columns.tolist()"
      ],
      "metadata": {
        "id": "h4yLQDyPydIo"
      },
      "execution_count": 6,
      "outputs": []
    },
    {
      "cell_type": "code",
      "source": [
        "cov_mat = df[numeric_cols].corr()\n",
        "corr_mat = df[numeric_cols].corr()\n",
        "\n",
        "print(\"Covariance Matrix:\\n\", cov_mat.round(3), \"\\n\")\n",
        "print(\"\\nCorrelation Matrix:\\n\",corr_mat.round(3))"
      ],
      "metadata": {
        "colab": {
          "base_uri": "https://localhost:8080/"
        },
        "id": "gMm6iKW40MOY",
        "outputId": "d0ed8c4f-0f54-455a-d88f-0ba511b700a6"
      },
      "execution_count": 10,
      "outputs": [
        {
          "output_type": "stream",
          "name": "stdout",
          "text": [
            "Covariance Matrix:\n",
            "            MedInc  HouseAge  Longitude  Latitude  AveRooms  target\n",
            "MedInc      1.000    -0.052      0.057    -0.033     0.529   0.931\n",
            "HouseAge   -0.052     1.000     -0.027    -0.049     0.337  -0.159\n",
            "Longitude   0.057    -0.027      1.000     0.012     0.054  -0.071\n",
            "Latitude   -0.033    -0.049      0.012     1.000    -0.098  -0.279\n",
            "AveRooms    0.529     0.337      0.054    -0.098     1.000   0.471\n",
            "target      0.931    -0.159     -0.071    -0.279     0.471   1.000 \n",
            "\n",
            "\n",
            "Correlation Matrix:\n",
            "            MedInc  HouseAge  Longitude  Latitude  AveRooms  target\n",
            "MedInc      1.000    -0.052      0.057    -0.033     0.529   0.931\n",
            "HouseAge   -0.052     1.000     -0.027    -0.049     0.337  -0.159\n",
            "Longitude   0.057    -0.027      1.000     0.012     0.054  -0.071\n",
            "Latitude   -0.033    -0.049      0.012     1.000    -0.098  -0.279\n",
            "AveRooms    0.529     0.337      0.054    -0.098     1.000   0.471\n",
            "target      0.931    -0.159     -0.071    -0.279     0.471   1.000\n"
          ]
        }
      ]
    },
    {
      "cell_type": "code",
      "source": [],
      "metadata": {
        "id": "3WPVpnBG1scy"
      },
      "execution_count": null,
      "outputs": []
    }
  ]
}